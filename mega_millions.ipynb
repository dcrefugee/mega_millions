{
 "cells": [
  {
   "cell_type": "code",
   "execution_count": null,
   "id": "cbaada5d",
   "metadata": {},
   "outputs": [],
   "source": []
  },
  {
   "cell_type": "markdown",
   "id": "2699adf2",
   "metadata": {},
   "source": [
    "### Pulls NY state mega millions API Feed for Mega Millions results\n",
    "### Calls the API and puts into sqlite DB"
   ]
  },
  {
   "cell_type": "code",
   "execution_count": null,
   "id": "ae8e9d03",
   "metadata": {},
   "outputs": [],
   "source": [
    "\n",
    "import requests # get connection\n",
    "import pandas as pd\n",
    "import json\n",
    "from sqlalchemy import create_engine\n",
    "import sqlite3 as db\n",
    "\n",
    "## NY Lottery API JSON Feed for Mega Millions\n",
    "ny_lotto_url = 'https://data.ny.gov/resource/5xaw-6ayf.json'\n",
    "mega_millions1 = requests.get(ny_lotto_url).json()\n",
    "#mega_millions1\n",
    "\n",
    "mega_millions1_df = pd.json_normalize(mega_millions1)\n",
    "#mega_millions1_df.head(3)\n",
    "#mega_millions1_df.info()\n",
    "#mega_millions1_df.describe()\n",
    "\n",
    "# Export to CSV\n",
    "#mega_millions1_df.to_csv('mega_millions1.csv')\n",
    "\n",
    "# Creates and/or connects to SQLite DB Named lotto_results1.db\n",
    "connection = db.connect(r'C:\\*****\\*****\\Documents\\scheduled_scripts_output\\lotto_results1_nuc1_api.db')\n",
    "\n",
    "#Appends the above DF to the DB Created into a table named mega_millions1_df\n",
    "mega_millions1_df.to_sql(name=\"****_millions1_df\", con=connection, if_exists='append', index=False)\n",
    "\n",
    "## Commit connection\n",
    "connection.commit()\n"
   ]
  },
  {
   "cell_type": "code",
   "execution_count": null,
   "id": "64d98e95",
   "metadata": {},
   "outputs": [],
   "source": []
  },
  {
   "cell_type": "code",
   "execution_count": null,
   "id": "57be27a6",
   "metadata": {},
   "outputs": [],
   "source": []
  }
 ],
 "metadata": {
  "kernelspec": {
   "display_name": "Python 3 (ipykernel)",
   "language": "python",
   "name": "python3"
  },
  "language_info": {
   "codemirror_mode": {
    "name": "ipython",
    "version": 3
   },
   "file_extension": ".py",
   "mimetype": "text/x-python",
   "name": "python",
   "nbconvert_exporter": "python",
   "pygments_lexer": "ipython3",
   "version": "3.9.13"
  }
 },
 "nbformat": 4,
 "nbformat_minor": 5
}
